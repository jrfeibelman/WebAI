{
 "cells": [
  {
   "cell_type": "code",
   "execution_count": 1,
   "metadata": {},
   "outputs": [],
   "source": [
    "from dotenv import load_dotenv\n",
    "load_dotenv()\n",
    "from rtai.agent.agent import Agent\n",
    "from rtai.agent.agent_manager import AgentManager\n",
    "from queue import Queue\n",
    "from rtai.utils.config import YamlLoader\n",
    "from rtai.llm.llm_client import LLMClient\n",
    "from typing import List, Tuple"
   ]
  },
  {
   "cell_type": "code",
   "execution_count": 7,
   "metadata": {},
   "outputs": [
    {
     "name": "stdout",
     "output_type": "stream",
     "text": [
      "None\n"
     ]
    }
   ],
   "source": [
    "from datetime import timedelta, time\n",
    "\n",
    "from rtai.agent.agent_event.agent_event import AgentEvent\n",
    "from rtai.agent.agent import Agent\n",
    "\n",
    "class Action(AgentEvent):\n",
    "    address: str\n",
    "    start_time: time\n",
    "    end_time: time\n",
    "    duration: timedelta\n",
    "\n",
    "    @classmethod\n",
    "    def new_empty_action(cls):\n",
    "        o = cls.__new__(cls)\n",
    "        o.address = \"\"\n",
    "        o.start_time=None\n",
    "        o.end_time=None\n",
    "        o.duration=None\n",
    "        return o\n",
    "    \n",
    "    def __init__(self, agent: Agent):\n",
    "        super.__init__(agent)\n",
    "\n",
    "    def __str__(self):\n",
    "        pass\n",
    "\n",
    "    def __repr__(self):\n",
    "        pass\n",
    "\n",
    "    def __lt__(self, other):\n",
    "        pass\n",
    "\n",
    "    def __eq__(self, other):\n",
    "        pass\n",
    "\n",
    "    def reset(self) -> None:\n",
    "        self.address = None\n",
    "        self.start_time = None\n",
    "        self.duration = None\n",
    "\n",
    "a = Action.new_empty_action()\n",
    "display(a.end_time)"
   ]
  },
  {
   "cell_type": "code",
   "execution_count": 2,
   "metadata": {},
   "outputs": [],
   "source": [
    "class TestAgent(Agent):\n",
    "    def __init__(self, agent_mgr: AgentManager, event_queue: Queue, client: LLMClient, file_path: str=\"\"):\n",
    "        super().__init__(agent_mgr, event_queue, client, file_path)\n",
    "    \n",
    "    def _create_day_plan(self, new_day: bool, first_day: bool) -> None:\n",
    "        wake_up_hour = self.s_mem.generate_wake_up_hour()\n",
    "        daily_req = self.generate_daily_plan() # TODO\n",
    "        return self.generate_hourly_schedule(wake_up_hour, daily_req) # TODO\n",
    "\n",
    "    def generate_daily_plan(self) -> str:\n",
    "        \"\"\"   Generates the daily plan for the persona. \n",
    "        Basically the long term planning that spans a day. Returns a list of actions\n",
    "        that the persona will take today. Usually comes in the following form: \n",
    "        'wake up and complete the morning routine at 6:00 am', \n",
    "        'eat breakfast at 7:00 am',.. \n",
    "        Note that the actions come without a period. \n",
    "\n",
    "        Persona state: identity stable set, lifestyle, cur_data_str, first_name\n",
    "\n",
    "        INPUT: \n",
    "            persona: The Persona class instance \n",
    "            wake_up_hour: an integer that indicates when the hour the persona wakes up \n",
    "                        (e.g., 8)\n",
    "        OUTPUT: \n",
    "            a list of daily actions in broad strokes.\n",
    "        EXAMPLE OUTPUT: \n",
    "            ['wake up and complete the morning routine at 6:00 am', \n",
    "            'have breakfast and brush teeth at 6:30 am',\n",
    "            'work on painting project from 8:00 am to 12:00 pm', \n",
    "            'have lunch at 12:00 pm', \n",
    "            'take a break and watch TV from 2:00 pm to 4:00 pm', \n",
    "            'work on painting project from 4:00 pm to 6:00 pm', \n",
    "            'have dinner at 6:00 pm', 'watch TV from 7:00 pm to 8:00 pm']\"\"\"\n",
    "        \n",
    "        PROMPT = \"\"\"Based on the description of a person, create a daily plan for that person with a list of actions that the persona will take today. Output the plans in a list separated by commas.\n",
    "        \"\"\"\n",
    "\n",
    "        return self.llm_client.generate_from_prompt(system_prompt=PROMPT, user_prompt=self.get_common_set_str())\n",
    "\n",
    "\n",
    "    def generate_hourly_schedule(self, wake_up_hour, daily_req) -> List[Tuple]:\n",
    "        \"\"\" * Uses LLM\n",
    "        TODO\n",
    "        Implement function to generate an hourly schedule for the day using LLMs\n",
    "        Try and moving to a memory class\n",
    "\n",
    "        OUTPUT:\n",
    "        (activity, start_time, duration)\n",
    "\n",
    "\n",
    "        \"\"\"\n",
    "        hour_str = [\"00:00 AM\", \"01:00 AM\", \"02:00 AM\", \"03:00 AM\", \"04:00 AM\", \n",
    "                    \"05:00 AM\", \"06:00 AM\", \"07:00 AM\", \"08:00 AM\", \"09:00 AM\", \n",
    "                    \"10:00 AM\", \"11:00 AM\", \"12:00 PM\", \"01:00 PM\", \"02:00 PM\", \n",
    "                    \"03:00 PM\", \"04:00 PM\", \"05:00 PM\", \"06:00 PM\", \"07:00 PM\",\n",
    "                    \"08:00 PM\", \"09:00 PM\", \"10:00 PM\", \"11:00 PM\"]\n",
    "        \n",
    "        PROMPT = f\"\"\"\n",
    "                Based on the description of a person and their high level plan for the day, create an hourly schedule for that person with a list of actions.\n",
    "                Output the plans in a list separated by commas. Every plan should have an activity, start time, and duration!\n",
    "                Here are the hours that you should use for scheduling:\\{hour_str}\n",
    "                \"\"\"\n",
    "        return self.llm_client.generate_from_prompt(system_prompt=PROMPT, user_prompt=self.get_common_set_str() + \"\\n\\n Daily Plan:\" + daily_req)\n"
   ]
  },
  {
   "cell_type": "code",
   "execution_count": 6,
   "metadata": {},
   "outputs": [],
   "source": [
    "cfg = YamlLoader.load(\"configs/rtai.yaml\")\n",
    "event_queue = Queue()\n",
    "llm_client = LLMClient(cfg.expand('LLMClient'))\n",
    "mgr = AgentManager(event_queue, cfg.expand('Agents'), client=llm_client)\n",
    "a = TestAgent(mgr, event_queue, llm_client, file_path='tests/examples/personas/persona2.txt')"
   ]
  },
  {
   "cell_type": "code",
   "execution_count": 7,
   "metadata": {},
   "outputs": [],
   "source": [
    "wake_up_hour = a.s_mem.generate_wake_up_hour()\n",
    "daily_req = a.generate_daily_plan() # TODO\n",
    "sched = a.generate_hourly_schedule(wake_up_hour, daily_req) # TODO"
   ]
  },
  {
   "cell_type": "code",
   "execution_count": null,
   "metadata": {},
   "outputs": [
    {
     "name": "stdout",
     "output_type": "stream",
     "text": [
      "- Wake up at 7:00 AM, have breakfast with Lois Lane\n",
      "- Exercise for 30 minutes to maintain physical fitness\n",
      "- Attend a press conference to cover a breaking news story as Clark Kent\n",
      "- Write an article about the news story for the Daily Planet\n",
      "- Meet with Lois to review and edit the article\n",
      "- Visit the Justice League to discuss ongoing cases and coordinate efforts\n",
      "- Have lunch with Jonathan and Martha Kent to catch up on family news\n",
      "- Spend some time reflecting on his Kryptonian heritage and Earthly upbringing\n",
      "- Conduct interviews for a profile piece on Lex Luthor's latest project\n",
      "- Attend a charity event as Superman to raise awareness and funds for various causes\n",
      "- Have dinner with Lois to debrief about the day's events\n",
      "- Return home to rest and recharge for the next day\n"
     ]
    }
   ],
   "source": [
    "print(daily_req)"
   ]
  },
  {
   "cell_type": "markdown",
   "metadata": {},
   "source": []
  },
  {
   "cell_type": "code",
   "execution_count": 12,
   "metadata": {},
   "outputs": [
    {
     "name": "stdout",
     "output_type": "stream",
     "text": [
      "['\"Wake up at 7:00 AM', 'have breakfast with Lois Lane', 'exercise for 30 minutes', 'attend press conference', 'write article', 'meet with Lois to review', 'visit Justice League', 'lunch with family', 'reflect on heritage', 'conduct interviews', 'attend charity event', 'dinner with Lois', 'rest.\"']\n"
     ]
    }
   ],
   "source": [
    "print(sched.split(', '))"
   ]
  },
  {
   "cell_type": "code",
   "execution_count": 1,
   "metadata": {},
   "outputs": [
    {
     "name": "stdout",
     "output_type": "stream",
     "text": [
      "2024-01-03 05:00 AM\n"
     ]
    }
   ],
   "source": [
    "from rtai.utils.datetime import datetime\n",
    "from rtai.world.clock import WorldClock\n",
    "c = WorldClock(datetime.now())\n",
    "frozen = c.snapshot()\n",
    "print(c)"
   ]
  },
  {
   "cell_type": "code",
   "execution_count": 2,
   "metadata": {},
   "outputs": [
    {
     "name": "stdout",
     "output_type": "stream",
     "text": [
      "2024-01-03 05:00:00 AM\n",
      "2024-01-03 05:30:00 AM\n"
     ]
    }
   ],
   "source": [
    "c.clock.increment_time(minutes=30)\n",
    "frozen2 = c.snapshot()\n",
    "print(frozen)\n",
    "print(frozen2)"
   ]
  },
  {
   "cell_type": "code",
   "execution_count": 4,
   "metadata": {},
   "outputs": [
    {
     "data": {
      "text/plain": [
       "True"
      ]
     },
     "execution_count": 4,
     "metadata": {},
     "output_type": "execute_result"
    }
   ],
   "source": [
    "frozen2 >= frozen"
   ]
  },
  {
   "cell_type": "code",
   "execution_count": 7,
   "metadata": {},
   "outputs": [
    {
     "name": "stdout",
     "output_type": "stream",
     "text": [
      "x 2024-01-03 02:06:57 AM, y 2024-01-03 02:06:57 AM\n"
     ]
    }
   ],
   "source": [
    "y = x\n",
    "x.increment_minute()\n",
    "print(\"x %s, y %s\" % (x, y))"
   ]
  },
  {
   "cell_type": "code",
   "execution_count": 6,
   "metadata": {},
   "outputs": [
    {
     "name": "stdout",
     "output_type": "stream",
     "text": [
      "2024-01-03 02:02:51.614590\n"
     ]
    }
   ],
   "source": [
    "from datetime import datetime as dt\n",
    "from datetime import timedelta\n",
    "y = dt.utcnow()\n",
    "print(y)"
   ]
  },
  {
   "cell_type": "code",
   "execution_count": 7,
   "metadata": {},
   "outputs": [
    {
     "name": "stdout",
     "output_type": "stream",
     "text": [
      "2024-01-03 02:03:51.614590\n"
     ]
    }
   ],
   "source": [
    "y += timedelta(minutes=1)\n",
    "print(y)"
   ]
  },
  {
   "cell_type": "code",
   "execution_count": 1,
   "metadata": {},
   "outputs": [
    {
     "name": "stdout",
     "output_type": "stream",
     "text": [
      "2024-01-03 02:41:25 AM\n"
     ]
    }
   ],
   "source": [
    "from rtai.utils.datetime import datetime\n",
    "from datetime import timedelta\n",
    "d = datetime.now()\n",
    "print(d)"
   ]
  },
  {
   "cell_type": "code",
   "execution_count": 2,
   "metadata": {},
   "outputs": [
    {
     "data": {
      "text/plain": [
       "2024-01-03 02:51:25 AM"
      ]
     },
     "execution_count": 2,
     "metadata": {},
     "output_type": "execute_result"
    }
   ],
   "source": [
    "d + timedelta(minutes=10)"
   ]
  },
  {
   "cell_type": "code",
   "execution_count": null,
   "metadata": {},
   "outputs": [],
   "source": [
    "d"
   ]
  }
 ],
 "metadata": {
  "kernelspec": {
   "display_name": "aiml",
   "language": "python",
   "name": "python3"
  },
  "language_info": {
   "codemirror_mode": {
    "name": "ipython",
    "version": 3
   },
   "file_extension": ".py",
   "mimetype": "text/x-python",
   "name": "python",
   "nbconvert_exporter": "python",
   "pygments_lexer": "ipython3",
   "version": "3.11.6"
  }
 },
 "nbformat": 4,
 "nbformat_minor": 2
}
