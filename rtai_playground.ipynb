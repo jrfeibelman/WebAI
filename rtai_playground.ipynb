{
 "cells": [
  {
   "cell_type": "code",
   "execution_count": 1,
   "metadata": {},
   "outputs": [],
   "source": [
    "from queue import Queue\n",
    "from rtai.utils.config import YamlLoader\n",
    "from rtai.llm.llm_client import LLMClient\n",
    "from rtai.agent.agent_manager import AgentManager\n",
    "from rtai.agent.agent import Agent\n",
    "from rtai.world.world import World\n",
    "from rtai.core.clock import clock\n",
    "\n",
    "cfg = YamlLoader.load(\"configs/rtai_jason.yaml\")\n",
    "clock(cfg.expand('Clock'))\n",
    "event_queue = Queue()\n",
    "\n",
    "world = World(cfg.expand('World'), event_queue)\n",
    "\n",
    "llm_client = LLMClient()\n",
    "llm_client.initialize(cfg.expand('LLMClient'))\n",
    "\n",
    "agent_mgr = AgentManager(event_queue, cfg.expand('Agents'), client=llm_client, world=world)\n",
    "agent_mgr.initialize()\n",
    "initial_shared_memories = world.get_shared_memories()\n",
    "agent_mgr.load_initial_memories(initial_shared_memories)\n",
    "agent_mgr.update(first_day=True)\n",
    "\n",
    "agent1: Agent = agent_mgr.agents['Hank Thompson']\n",
    "agent2: Agent = agent_mgr.agents['Claire Reynolds']"
   ]
  },
  {
   "cell_type": "code",
   "execution_count": 5,
   "metadata": {},
   "outputs": [
    {
     "name": "stdout",
     "output_type": "stream",
     "text": [
      "Hank Thompson's Daily Schedule:\n",
      "\n",
      "\n",
      "Wakes up early, tends to crops, enjoys tractor rides, listens to country music, visits Claire for 2 hours starting at 8:00\n",
      "Maintains crops, visits friend, plays country music for 3 hours starting at 1:00\n",
      "Harvests crops for 4 hours starting at 6:00\n",
      "\n",
      "\n",
      "Claire Reynolds's Daily Schedule:\n",
      "\n",
      "\n",
      "Conduct field research on local ecosystems for 1 hours starting at 9:00\n",
      "Analyze and report on findings from field data for 2 hours starting at 1:00\n",
      "Present findings to colleagues and stakeholders for 3 hours starting at 9:00\n"
     ]
    }
   ],
   "source": [
    "def pretty_print_schedule(name, daily_schedule):\n",
    "    print(f\"{name}'s Daily Schedule:\")\n",
    "    print(\"\\n\")\n",
    "    for task in daily_schedule:\n",
    "        print(task[0].split('\\\"')[0] + \" for \" + str(task[1]) + \" hours starting at \" + str(task[2]))\n",
    "\n",
    "pretty_print_schedule(agent1.get_name(), agent1.s_mem.daily_schedule)\n",
    "print(\"\\n\")\n",
    "pretty_print_schedule(agent2.get_name(), agent2.s_mem.daily_schedule)\n"
   ]
  },
  {
   "cell_type": "code",
   "execution_count": 9,
   "metadata": {},
   "outputs": [
    {
     "name": "stdout",
     "output_type": "stream",
     "text": [
      "\n",
      "Hank: Hey, Claire. I was thinking, you know a lot about ecology, right?\n",
      "Claire: Yeah, I do. Why do you ask?\n",
      "\n",
      "Hank: Well, I was wondering if you could do an ecological survey of my farm. You know, see how it's doing and if there's anything I can do to improve it.\n",
      "Claire: Sure, I'd be happy to help. What kind of farm is it?\n",
      "\n",
      "Hank: It's a corn and soybean farm. I've been doing it for years, but I just want to make sure I'm doing it right.\n",
      "Claire: That's great. I'll make a note of that and get started on the survey.\n",
      "\n",
      "Hank: Thanks, Claire. I really appreciate it.\n",
      "Claire: No problem, Hank. I'm always happy to help out a friend.\n"
     ]
    },
    {
     "name": "stderr",
     "output_type": "stream",
     "text": [
      "ggml_metal_free: deallocating\n"
     ]
    }
   ],
   "source": [
    "# Dialogue\n",
    "dialogue_topic = \"Hank asking Claire to do an ecological survey of his farm\"\n",
    "out = llm_client.generate_dialogue(agent1, agent2, \"Hank's Farm\", dialogue_topic)\n",
    "print(out)"
   ]
  }
 ],
 "metadata": {
  "kernelspec": {
   "display_name": "aiml",
   "language": "python",
   "name": "python3"
  },
  "language_info": {
   "codemirror_mode": {
    "name": "ipython",
    "version": 3
   },
   "file_extension": ".py",
   "mimetype": "text/x-python",
   "name": "python",
   "nbconvert_exporter": "python",
   "pygments_lexer": "ipython3",
   "version": "3.11.6"
  }
 },
 "nbformat": 4,
 "nbformat_minor": 2
}
