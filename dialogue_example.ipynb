{
 "cells": [
  {
   "cell_type": "code",
   "execution_count": 26,
   "metadata": {},
   "outputs": [
    {
     "name": "stderr",
     "output_type": "stream",
     "text": [
      "ggml_metal_free: deallocating\n"
     ]
    }
   ],
   "source": [
    "from queue import Queue\n",
    "from rtai.utils.config import YamlLoader\n",
    "from rtai.llm.llm_client import LLMClient\n",
    "from rtai.agent.agent_manager import AgentManager\n",
    "from rtai.agent.agent import Agent\n",
    "from rtai.world.world import World\n",
    "from rtai.world.clock import clock\n",
    "\n",
    "cfg = YamlLoader.load(\"configs/rtai_jason.yaml\")\n",
    "clock(cfg.expand('Clock'))\n",
    "event_queue = Queue()\n",
    "\n",
    "world = World(cfg.expand('World'), event_queue)\n",
    "\n",
    "llm_client = LLMClient()\n",
    "llm_client.initialize(cfg.expand('LLMClient'))\n",
    "\n",
    "agent_mgr = AgentManager(event_queue, cfg.expand('Agents'), client=llm_client, world=world)\n",
    "agent_mgr.initialize()\n",
    "initial_shared_memories = world.get_shared_memories()\n",
    "agent_mgr.load_initial_memories(initial_shared_memories)\n",
    "agent_mgr.update(first_day=True)\n",
    "\n",
    "agent1: Agent = agent_mgr.agents['Hank Thompson']\n",
    "agent2: Agent = agent_mgr.agents['Claire Reynolds']"
   ]
  },
  {
   "cell_type": "code",
   "execution_count": 27,
   "metadata": {},
   "outputs": [
    {
     "name": "stdout",
     "output_type": "stream",
     "text": [
      "Hank Thompson's Daily Schedule:\n",
      "\n",
      "\n",
      "Hank spends the day tending to his corn fields and seeking companionship for 1 hours starting at 8:00\n",
      "Hank reads country music magazines and listens to classic ballads on the radio for 1 hours starting at 9:00\n",
      "Hank rides his tractor around the fields and reflects on his love for nature for 1 hours starting at 1:00\n",
      "\n",
      "\n",
      "Claire Reynolds's Daily Schedule:\n",
      "\n",
      "\n",
      "Claire reviews scientific data and presents findings to colleague for 2 hours starting at 9:00\n",
      "Claire analyzes environmental data and makes recommendations for 4 hours starting at 1:00\n",
      "Claire conducts field surveys and collects environmental data for 6 hours starting at 5:00\n"
     ]
    }
   ],
   "source": [
    "def pretty_print_schedule(name, daily_schedule):\n",
    "    print(f\"{name}'s Daily Schedule:\")\n",
    "    print(\"\\n\")\n",
    "    for task in daily_schedule:\n",
    "        print(task[0].split('\\\"')[0] + \" for \" + str(task[1]) + \" hours starting at \" + str(task[2]))\n",
    "\n",
    "pretty_print_schedule(agent1.get_name(), agent1.s_mem.daily_schedule)\n",
    "print(\"\\n\")\n",
    "pretty_print_schedule(agent2.get_name(), agent2.s_mem.daily_schedule)\n"
   ]
  },
  {
   "cell_type": "code",
   "execution_count": 4,
   "metadata": {},
   "outputs": [],
   "source": [
    "dialogue_topic = \"Hank asking Claire to do an ecological survey of his farm\"\n",
    "location = \"Hank's Farm\""
   ]
  },
  {
   "cell_type": "code",
   "execution_count": 6,
   "metadata": {},
   "outputs": [
    {
     "name": "stdout",
     "output_type": "stream",
     "text": [
      "\n",
      "Hank: Hey, Claire, I was thinking about something. I was wondering if you could do an ecological survey of my farm.\n",
      "Claire: An ecological survey? That's a great idea, Hank! I'd be happy to help.\n",
      "Hank: Really? That would be great. I've been farming for a long time, but I'd love to learn more about the ecosystem on my farm.\n",
      "Claire: Absolutely, I can help you understand the interconnectedness of all the plants and animals on your farm. It'll give you a better appreciation for the land and help you make more informed decisions about your farming practices.\n",
      "Hank: That sounds like a fantastic idea. I'm really looking forward to working with you on this.\n",
      "Claire: Me too, Hank. Let's get started!\n"
     ]
    },
    {
     "name": "stderr",
     "output_type": "stream",
     "text": [
      "ggml_metal_free: deallocating\n"
     ]
    }
   ],
   "source": [
    "# Dialogue\n",
    "out = llm_client.generate_dialogue(agent1, agent2, location, dialogue_topic)\n",
    "print(out)"
   ]
  }
 ],
 "metadata": {
  "kernelspec": {
   "display_name": "aiml",
   "language": "python",
   "name": "python3"
  },
  "language_info": {
   "codemirror_mode": {
    "name": "ipython",
    "version": 3
   },
   "file_extension": ".py",
   "mimetype": "text/x-python",
   "name": "python",
   "nbconvert_exporter": "python",
   "pygments_lexer": "ipython3",
   "version": "3.11.6"
  }
 },
 "nbformat": 4,
 "nbformat_minor": 2
}
