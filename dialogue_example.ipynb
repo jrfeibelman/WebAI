{
 "cells": [
  {
   "cell_type": "code",
   "execution_count": 26,
   "metadata": {},
   "outputs": [
    {
     "name": "stderr",
     "output_type": "stream",
     "text": [
      "ggml_metal_free: deallocating\n"
     ]
    }
   ],
   "source": [
    "from queue import Queue\n",
    "from rtai.utils.config import YamlLoader\n",
    "from rtai.llm.llm_client import LLMClient\n",
    "from rtai.agent.agent_manager import AgentManager\n",
    "from rtai.agent.agent import Agent\n",
    "from rtai.world.world import World\n",
    "from rtai.world.clock import clock\n",
    "\n",
    "cfg = YamlLoader.load(\"configs/rtai_jason.yaml\")\n",
    "clock(cfg.expand('Clock'))\n",
    "event_queue = Queue()\n",
    "\n",
    "world = World(cfg.expand('World'), event_queue)\n",
    "\n",
    "llm_client = LLMClient()\n",
    "llm_client.initialize(cfg.expand('LLMClient'))\n",
    "\n",
    "agent_mgr = AgentManager(event_queue, cfg.expand('Agents'), client=llm_client, world=world)\n",
    "agent_mgr.initialize()\n",
    "initial_shared_memories = world.get_shared_memories()\n",
    "agent_mgr.load_initial_memories(initial_shared_memories)\n",
    "agent_mgr.update(first_day=True)\n",
    "\n",
    "agent1: Agent = agent_mgr.agents['Hank Thompson']\n",
    "agent2: Agent = agent_mgr.agents['Claire Reynolds']"
   ]
  },
  {
   "cell_type": "code",
   "execution_count": 27,
   "metadata": {},
   "outputs": [
    {
     "name": "stdout",
     "output_type": "stream",
     "text": [
      "Hank Thompson's Daily Schedule:\n",
      "\n",
      "\n",
      "Hank spends the day tending to his corn fields and seeking companionship for 1 hours starting at 8:00\n",
      "Hank reads country music magazines and listens to classic ballads on the radio for 1 hours starting at 9:00\n",
      "Hank rides his tractor around the fields and reflects on his love for nature for 1 hours starting at 1:00\n",
      "\n",
      "\n",
      "Claire Reynolds's Daily Schedule:\n",
      "\n",
      "\n",
      "Claire reviews scientific data and presents findings to colleague for 2 hours starting at 9:00\n",
      "Claire analyzes environmental data and makes recommendations for 4 hours starting at 1:00\n",
      "Claire conducts field surveys and collects environmental data for 6 hours starting at 5:00\n"
     ]
    }
   ],
   "source": [
    "def pretty_print_schedule(name, daily_schedule):\n",
    "    print(f\"{name}'s Daily Schedule:\")\n",
    "    print(\"\\n\")\n",
    "    for task in daily_schedule:\n",
    "        print(task[0].split('\\\"')[0] + \" for \" + str(task[1]) + \" hours starting at \" + str(task[2]))\n",
    "\n",
    "pretty_print_schedule(agent1.get_name(), agent1.s_mem.daily_schedule)\n",
    "print(\"\\n\")\n",
    "pretty_print_schedule(agent2.get_name(), agent2.s_mem.daily_schedule)\n"
   ]
  },
  {
   "cell_type": "code",
   "execution_count": 32,
   "metadata": {},
   "outputs": [],
   "source": [
    "dialogue_topic = \"Hank asking Claire to do an ecological study on his farm then go dancing afterwards\"\n",
    "location = \"Hank's Farm\""
   ]
  },
  {
   "cell_type": "code",
   "execution_count": 33,
   "metadata": {},
   "outputs": [
    {
     "name": "stdout",
     "output_type": "stream",
     "text": [
      "\n",
      "Hank: Hey, Claire, I was thinking about something. I was wondering if you'd be interested in doing an ecological study on my farm.\n",
      "Claire: That sounds interesting, Hank. What kind of study would you like me to do?\n",
      "Hank: I was thinking maybe you could look at the soil quality and the water usage. I'm always looking for ways to improve my farming practices.\n",
      "Claire: Sure, I'd be happy to help. I'll need to set up some equipment and collect some samples.\n",
      "Hank: That's great. And after we're done with that, how about we hit up the Sundown Saloon for some square dancing?\n",
      "Claire: I love square dancing! I haven't been in a while though.\n",
      "Hank: Well, it's been a while for me too. But I think it'd be fun to get back into it.\n",
      "Claire: Sounds like a plan. I'll bring my dancing shoes.\n",
      "Hank: I'll bring my tractor.\n",
      "Claire: (laughs) I'll need to get my dancing shoes out of my tractor.\n",
      "Hank: (laughs) I'll make sure to do that.\n",
      "Claire: Alright, let's do it. I'm looking forward to it.\n",
      "Hank: Me too. It's going to be a great day.\n"
     ]
    },
    {
     "name": "stderr",
     "output_type": "stream",
     "text": [
      "ggml_metal_free: deallocating\n"
     ]
    }
   ],
   "source": [
    "# Dialogue\n",
    "out = llm_client.generate_dialogue(agent1, agent2, location, dialogue_topic)\n",
    "print(out)"
   ]
  },
  {
   "cell_type": "code",
   "execution_count": null,
   "metadata": {},
   "outputs": [],
   "source": []
  }
 ],
 "metadata": {
  "kernelspec": {
   "display_name": "aiml",
   "language": "python",
   "name": "python3"
  },
  "language_info": {
   "codemirror_mode": {
    "name": "ipython",
    "version": 3
   },
   "file_extension": ".py",
   "mimetype": "text/x-python",
   "name": "python",
   "nbconvert_exporter": "python",
   "pygments_lexer": "ipython3",
   "version": "3.11.6"
  }
 },
 "nbformat": 4,
 "nbformat_minor": 2
}
