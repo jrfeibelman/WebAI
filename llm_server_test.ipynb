{
 "cells": [
  {
   "cell_type": "code",
   "execution_count": null,
   "metadata": {},
   "outputs": [],
   "source": [
    "import requests\n",
    "\n",
    "# Set the URL of the Uvicorn server\n",
    "uvicorn_url = \"http://127.0.0.1:8000\"\n",
    "\n",
    "# Define the endpoint you want to access\n",
    "endpoint = \"/\"  # Replace with your actual endpoint\n",
    "\n",
    "data = {\n",
    "    \"prompt\": prompt,\n",
    "    \"task\": 'generate_dialogue',\n",
    "    \"args\": {\n",
    "        \"dialogue_topic\": dialogue_topic,\n",
    "        \"location\": location\n",
    "    }\n",
    "}"
   ]
  },
  {
   "cell_type": "code",
   "execution_count": null,
   "metadata": {},
   "outputs": [],
   "source": [
    "# Make a GET request\n",
    "response = requests.post(f\"{uvicorn_url}{endpoint}\", json=data)\n",
    "\n",
    "# Print the response\n",
    "print(\"Response status code:\", response.status_code)\n",
    "print(\"Response content:\", response.text)"
   ]
  },
  {
   "cell_type": "code",
   "execution_count": null,
   "metadata": {},
   "outputs": [],
   "source": [
    "import requests\n",
    "\n",
    "# Set the URL of the Uvicorn server\n",
    "uvicorn_url = \"http://127.0.0.1:8000\"\n",
    "\n",
    "# Define the endpoint you want to access\n",
    "endpoint = \"/\"  # Replace with your actual endpoint\n",
    "\n",
    "data = {\n",
    "    \"prompt\": prompt,\n",
    "    \"task\": 'generate_dialogue',\n",
    "    \"args\": {\n",
    "        \"dialogue_topic\": dialogue_topic,\n",
    "        \"location\": location\n",
    "    }\n",
    "}"
   ]
  },
  {
   "cell_type": "code",
   "execution_count": null,
   "metadata": {},
   "outputs": [],
   "source": [
    "import re\n",
    "\n",
    "def clean_and_split(input_string):\n",
    "    # Clean special characters other than the colon\n",
    "    cleaned_string = re.sub(r'[^a-zA-Z0-9:\\n\\s]', '', input_string)\n",
    "\n",
    "    # Split the cleaned string by '\\n' and ':'\n",
    "    lines = cleaned_string.strip().split('\\n')\n",
    "    print(lines)\n",
    "    result_dict = {}\n",
    "\n",
    "    # Iterate through each line\n",
    "    for line in lines:\n",
    "        # Split each line into name and content using ':'\n",
    "        name, content = map(str.strip, line.split(':'))\n",
    "\n",
    "        # Add the name and content to the result dictionary\n",
    "        result_dict[name] = content\n",
    "\n",
    "    return result_dict\n",
    "\n",
    "# Example usage:\n",
    "initial_string = response.text\n",
    "formatted_result = clean_and_split(initial_string)\n",
    "\n",
    "# Print the formatted result\n",
    "for name, content in formatted_result.items():\n",
    "    print(f\"{name}: {content}\")"
   ]
  }
 ],
 "metadata": {
  "language_info": {
   "name": "python"
  }
 },
 "nbformat": 4,
 "nbformat_minor": 2
}
