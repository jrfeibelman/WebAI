{
 "cells": [
  {
   "cell_type": "code",
   "execution_count": 1,
   "metadata": {},
   "outputs": [],
   "source": [
    "import requests"
   ]
  },
  {
   "cell_type": "code",
   "execution_count": 6,
   "metadata": {},
   "outputs": [
    {
     "data": {
      "text/plain": [
       "<Response [200]>"
      ]
     },
     "execution_count": 6,
     "metadata": {},
     "output_type": "execute_result"
    }
   ],
   "source": [
    "import requests\n",
    "\n",
    "url = \"http://localhost:11434/api/generate\"\n",
    "data = {\n",
    "    \"model\": \"llama2\",\n",
    "    \"prompt\": \"Why is the sky blue?\",\n",
    "    \"format\": \"json\",\n",
    "    # \"stream\": \"false,\n",
    "}\n",
    "\n",
    "response = requests.post(url, json=data)\n",
    "response"
   ]
  },
  {
   "cell_type": "code",
   "execution_count": 17,
   "metadata": {},
   "outputs": [
    {
     "data": {
      "text/plain": [
       "'{'"
      ]
     },
     "execution_count": 17,
     "metadata": {},
     "output_type": "execute_result"
    }
   ],
   "source": [
    "import json\n",
    "\n",
    "str(response.content)[2]"
   ]
  },
  {
   "cell_type": "code",
   "execution_count": 4,
   "metadata": {},
   "outputs": [
    {
     "ename": "RuntimeError",
     "evalue": "asyncio.run() cannot be called from a running event loop",
     "output_type": "error",
     "traceback": [
      "\u001b[0;31m---------------------------------------------------------------------------\u001b[0m",
      "\u001b[0;31mRuntimeError\u001b[0m                              Traceback (most recent call last)",
      "Cell \u001b[0;32mIn[4], line 62\u001b[0m\n\u001b[1;32m     59\u001b[0m     agent\u001b[38;5;241m.\u001b[39mstop()\n\u001b[1;32m     61\u001b[0m \u001b[38;5;66;03m# Run the event loop\u001b[39;00m\n\u001b[0;32m---> 62\u001b[0m \u001b[43masyncio\u001b[49m\u001b[38;5;241;43m.\u001b[39;49m\u001b[43mrun\u001b[49m\u001b[43m(\u001b[49m\u001b[43mmain\u001b[49m\u001b[43m(\u001b[49m\u001b[43m)\u001b[49m\u001b[43m)\u001b[49m\n",
      "File \u001b[0;32m/opt/homebrew/Caskroom/miniforge/base/envs/embeddings_env/lib/python3.11/asyncio/runners.py:186\u001b[0m, in \u001b[0;36mrun\u001b[0;34m(main, debug)\u001b[0m\n\u001b[1;32m    161\u001b[0m \u001b[38;5;250m\u001b[39m\u001b[38;5;124;03m\"\"\"Execute the coroutine and return the result.\u001b[39;00m\n\u001b[1;32m    162\u001b[0m \n\u001b[1;32m    163\u001b[0m \u001b[38;5;124;03mThis function runs the passed coroutine, taking care of\u001b[39;00m\n\u001b[0;32m   (...)\u001b[0m\n\u001b[1;32m    182\u001b[0m \u001b[38;5;124;03m    asyncio.run(main())\u001b[39;00m\n\u001b[1;32m    183\u001b[0m \u001b[38;5;124;03m\"\"\"\u001b[39;00m\n\u001b[1;32m    184\u001b[0m \u001b[38;5;28;01mif\u001b[39;00m events\u001b[38;5;241m.\u001b[39m_get_running_loop() \u001b[38;5;129;01mis\u001b[39;00m \u001b[38;5;129;01mnot\u001b[39;00m \u001b[38;5;28;01mNone\u001b[39;00m:\n\u001b[1;32m    185\u001b[0m     \u001b[38;5;66;03m# fail fast with short traceback\u001b[39;00m\n\u001b[0;32m--> 186\u001b[0m     \u001b[38;5;28;01mraise\u001b[39;00m \u001b[38;5;167;01mRuntimeError\u001b[39;00m(\n\u001b[1;32m    187\u001b[0m         \u001b[38;5;124m\"\u001b[39m\u001b[38;5;124masyncio.run() cannot be called from a running event loop\u001b[39m\u001b[38;5;124m\"\u001b[39m)\n\u001b[1;32m    189\u001b[0m \u001b[38;5;28;01mwith\u001b[39;00m Runner(debug\u001b[38;5;241m=\u001b[39mdebug) \u001b[38;5;28;01mas\u001b[39;00m runner:\n\u001b[1;32m    190\u001b[0m     \u001b[38;5;28;01mreturn\u001b[39;00m runner\u001b[38;5;241m.\u001b[39mrun(main)\n",
      "\u001b[0;31mRuntimeError\u001b[0m: asyncio.run() cannot be called from a running event loop"
     ]
    }
   ],
   "source": [
    "import asyncio\n",
    "from pykka import ThreadingActor\n",
    "\n",
    "class SecondAgentActor(ThreadingActor):\n",
    "    def __init__(self, agent_id):\n",
    "        super().__init__()\n",
    "        self.agent_id = agent_id\n",
    "\n",
    "    def on_receive(self, message):\n",
    "        if message == \"Trigger action 1\":\n",
    "            self.perform_action_1()\n",
    "        elif message == \"Trigger action 2\":\n",
    "            self.perform_action_2()\n",
    "        else:\n",
    "            print(f\"SecondAgentActor {self.agent_id} received unknown message: {message}\")\n",
    "\n",
    "    def perform_action_1(self):\n",
    "        print(f\"SecondAgentActor {self.agent_id} is performing Action 1\")\n",
    "\n",
    "    def perform_action_2(self):\n",
    "        print(f\"SecondAgentActor {self.agent_id} is performing Action 2\")\n",
    "\n",
    "class AgentActor(ThreadingActor):\n",
    "    def __init__(self):\n",
    "        super().__init__()\n",
    "        self.managed_agents = []\n",
    "        self.agent_counter = 0\n",
    "\n",
    "    def on_receive(self, message):\n",
    "        print(f\"AgentActor received message: {message}\")\n",
    "\n",
    "        # Check some condition to decide whether to create a new agent\n",
    "        if some_condition(message):\n",
    "            new_agent = self.create_new_agent()\n",
    "            new_agent.tell(f\"Hello from agent {new_agent.agent_id}\")\n",
    "\n",
    "    def create_new_agent(self):\n",
    "        agent_id = self.agent_counter\n",
    "        self.agent_counter += 1\n",
    "        new_agent = SecondAgentActor.start(agent_id)\n",
    "        self.managed_agents.append(new_agent)\n",
    "        return new_agent\n",
    "\n",
    "def some_condition(message):\n",
    "    # Define your condition here based on the received message\n",
    "    return \"create_agent\" in message.lower()\n",
    "\n",
    "async def main():\n",
    "    # Create AgentActor\n",
    "    agent = AgentActor.start()\n",
    "\n",
    "    # Send a message to AgentActor to trigger the creation of a new agent\n",
    "    agent.tell(\"Create a new agent\")\n",
    "\n",
    "    # Allow some time for actors to perform their tasks\n",
    "    await asyncio.sleep(1)\n",
    "\n",
    "    # Stop the actors\n",
    "    agent.stop()\n",
    "\n",
    "# Run the event loop\n",
    "asyncio.run(main())\n"
   ]
  },
  {
   "cell_type": "code",
   "execution_count": null,
   "metadata": {},
   "outputs": [],
   "source": []
  }
 ],
 "metadata": {
  "kernelspec": {
   "display_name": "embeddings_env",
   "language": "python",
   "name": "python3"
  },
  "language_info": {
   "codemirror_mode": {
    "name": "ipython",
    "version": 3
   },
   "file_extension": ".py",
   "mimetype": "text/x-python",
   "name": "python",
   "nbconvert_exporter": "python",
   "pygments_lexer": "ipython3",
   "version": "3.11.7"
  }
 },
 "nbformat": 4,
 "nbformat_minor": 2
}
