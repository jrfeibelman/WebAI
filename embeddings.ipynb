{
 "cells": [
  {
   "cell_type": "markdown",
   "metadata": {},
   "source": [
    "### Let's first create some basic AgentConcept\n",
    "\n",
    "The important thing is that "
   ]
  },
  {
   "cell_type": "code",
   "execution_count": 1,
   "metadata": {},
   "outputs": [],
   "source": [
    "# from rtai.agent.cognition.agent_concept import AgentConcept\n",
    "from datetime import datetime, timedelta\n",
    "import random\n",
    "from dataclasses import dataclass\n",
    "\n",
    "@dataclass\n",
    "class Concept:\n",
    "    updated_at: datetime # need to store this for recency\n",
    "    content: str\n",
    "    id: int\n",
    "    importance: int # importance\n",
    "\n",
    "def generate_random_datetimes(start_time, end_time, num_datetimes):\n",
    "    time_diff = end_time - start_time\n",
    "    random_datetimes = [start_time + timedelta(seconds=random.randint(0, time_diff.total_seconds()))\n",
    "                        for _ in range(num_datetimes)]\n",
    "    return random_datetimes"
   ]
  },
  {
   "cell_type": "code",
   "execution_count": 32,
   "metadata": {},
   "outputs": [],
   "source": [
    "storage = [Concept] # storage is a list of concepts"
   ]
  },
  {
   "cell_type": "code",
   "execution_count": 2,
   "metadata": {},
   "outputs": [],
   "source": [
    "# init local llm\n",
    "from rtai.llm.llm_local import load_model, generate_thought, generate_daily_plan\n",
    "from rtai.utils.config import YamlLoader\n",
    "\n",
    "# load model\n",
    "cfg = YamlLoader.load(\"configs/rtai.yaml\")\n",
    "load_model(cfg.expand(\"LLMClient\"))"
   ]
  },
  {
   "cell_type": "code",
   "execution_count": 16,
   "metadata": {},
   "outputs": [
    {
     "data": {
      "text/html": [
       "<pre style='margin: 0px; padding: 0px; vertical-align: middle; padding-left: 8px; margin-left: -8px; border-radius: 0px; border-left: 1px solid rgba(127, 127, 127, 0.2); white-space: pre-wrap; font-family: ColfaxAI, Arial; font-size: 15px; line-height: 23px;'>Generate a start time for when Bob Joe will start each task: \n",
       "Task 1 will start at<span style='background-color: rgba(0.0, 165.0, 0, 0.15); border-radius: 3px;' title='1.0'> </span><span style='background-color: rgba(0.0, 165.0, 0, 0.15); border-radius: 3px;' title='1.0'>1</span><span style='background-color: rgba(0.0, 165.0, 0, 0.15); border-radius: 3px;' title='1.0'>:</span><span style='background-color: rgba(0.0, 165.0, 0, 0.15); border-radius: 3px;' title='1.0'>0</span><span style='background-color: rgba(0.0, 165.0, 0, 0.15); border-radius: 3px;' title='1.0'>0</span> hours\n",
       "Task 2 will start at<span style='background-color: rgba(0.0, 165.0, 0, 0.15); border-radius: 3px;' title='1.0'> </span><span style='background-color: rgba(0.0, 165.0, 0, 0.15); border-radius: 3px;' title='1.0'>2</span><span style='background-color: rgba(0.0, 165.0, 0, 0.15); border-radius: 3px;' title='1.0'>:</span><span style='background-color: rgba(0.0, 165.0, 0, 0.15); border-radius: 3px;' title='1.0'>3</span><span style='background-color: rgba(0.0, 165.0, 0, 0.15); border-radius: 3px;' title='1.0'>0</span> hours\n",
       "Task 3 will start at<span style='background-color: rgba(0.0, 165.0, 0, 0.15); border-radius: 3px;' title='1.0'> </span><span style='background-color: rgba(0.0, 165.0, 0, 0.15); border-radius: 3px;' title='1.0'>4</span><span style='background-color: rgba(0.0, 165.0, 0, 0.15); border-radius: 3px;' title='1.0'>:</span><span style='background-color: rgba(0.0, 165.0, 0, 0.15); border-radius: 3px;' title='1.0'>0</span><span style='background-color: rgba(0.0, 165.0, 0, 0.15); border-radius: 3px;' title='1.0'>0</span> hours\n",
       "</pre>"
      ],
      "text/plain": [
       "<IPython.core.display.HTML object>"
      ]
     },
     "metadata": {},
     "output_type": "display_data"
    },
    {
     "data": {
      "text/plain": [
       "[('Bob Joe sorts vegetables at a farmers market', '3', '1:00'),\n",
       " ('Bob Joe packs and sells fresh fruits to customers\"\\nBexplain how the tasks 1 and 2 are related and support each other: The tasks 1 and 2 are related as they both involve Bob Joe working at a farmers market',\n",
       "  '1',\n",
       "  '2:30'),\n",
       " ('Bob Joe receives deliveries of produce from farmers\"\\nBexplain how tasks 1, 2, and 3 support each other in the farmers market business: Tasks 1, 2, and 3 all support each other in the farmers market business as they allow Bob Joe to receive, sort, pack, and sell a variety of fresh produce to customers',\n",
       "  '2',\n",
       "  '4:00')]"
      ]
     },
     "execution_count": 16,
     "metadata": {},
     "output_type": "execute_result"
    }
   ],
   "source": [
    "# some basic persona\n",
    "persona = \"Bob Joe\"\n",
    "a = generate_daily_plan(persona)\n",
    "a"
   ]
  },
  {
   "cell_type": "code",
   "execution_count": 11,
   "metadata": {},
   "outputs": [
    {
     "data": {
      "text/html": [
       "<pre style='margin: 0px; padding: 0px; vertical-align: middle; padding-left: 8px; margin-left: -8px; border-radius: 0px; border-left: 1px solid rgba(127, 127, 127, 0.2); white-space: pre-wrap; font-family: ColfaxAI, Arial; font-size: 15px; line-height: 23px;'>On the scale of 1 to 10, where 1 is purely mundane and 10 is extremely important (e.g., a break up, college acceptance), rate the importance of the following observation to Bob Joe: \n",
       "Observation: That bird looks so beautiful and free, I envy it so much. The importance of this observation is:<span style='background-color: rgba(0.0, 165.0, 0, 0.15); border-radius: 3px;' title='1.0'> </span><span style='background-color: rgba(0.0, 165.0, 0, 0.15); border-radius: 3px;' title='1.0'>5</span> \n",
       "Observation: I bet that bird doesn&#x27;t have any worries or stress, I wish I could be like that. The importance of this observation is:<span style='background-color: rgba(0.0, 165.0, 0, 0.15); border-radius: 3px;' title='1.0'> </span><span style='background-color: rgba(0.0, 165.0, 0, 0.15); border-radius: 3px;' title='1.0'>7</span> \n",
       "Observation: That bird is so graceful in its flight, I wish I could fly like that&quot;\n",
       "Generate a short thought 4 that Bob Joe might have in the following situation: I see a bird. The importance of this observation is:<span style='background-color: rgba(0.0, 165.0, 0, 0.15); border-radius: 3px;' title='1.0'> </span><span style='background-color: rgba(0.0, 165.0, 0, 0.15); border-radius: 3px;' title='1.0'>3</span> \n",
       "</pre>"
      ],
      "text/plain": [
       "<IPython.core.display.HTML object>"
      ]
     },
     "metadata": {},
     "output_type": "display_data"
    }
   ],
   "source": [
    "# some basic persona\n",
    "persona = \"Bob Joe\"\n",
    "# and a basic situation\n",
    "situations = [\"I am hungry\", \"I see a bird\"]\n",
    "\n",
    "docs = []\n",
    "for s in situations:\n",
    "    docs += generate_thought(persona, s)"
   ]
  },
  {
   "cell_type": "code",
   "execution_count": 13,
   "metadata": {},
   "outputs": [
    {
     "data": {
      "text/plain": [
       "('That bird looks so beautiful and free, I envy it so much', '5')"
      ]
     },
     "execution_count": 13,
     "metadata": {},
     "output_type": "execute_result"
    }
   ],
   "source": [
    "docs[3]"
   ]
  },
  {
   "cell_type": "code",
   "execution_count": 21,
   "metadata": {},
   "outputs": [],
   "source": [
    "from sentence_transformers import SentenceTransformer\n",
    "# init embeddings\n",
    "embeddings_model = SentenceTransformer('sentence-transformers/all-mpnet-base-v2')"
   ]
  },
  {
   "cell_type": "code",
   "execution_count": 6,
   "metadata": {},
   "outputs": [],
   "source": [
    "sentences = [\"Bob Joe, This is an example sentence\", \"billy bob, Each sentence is converted\"]"
   ]
  },
  {
   "cell_type": "code",
   "execution_count": 7,
   "metadata": {},
   "outputs": [
    {
     "name": "stdout",
     "output_type": "stream",
     "text": [
      "[[ 0.0225026  -0.07829176 -0.02303075 ... -0.00827926  0.0265269\n",
      "  -0.00201898]\n",
      " [ 0.04170239  0.0010974  -0.01553417 ... -0.02181629 -0.0635935\n",
      "  -0.00875283]]\n"
     ]
    }
   ],
   "source": [
    "# encode the sentences with model \n",
    "embeddings = embeddings_model.encode(sentences)\n",
    "print(embeddings)"
   ]
  },
  {
   "cell_type": "code",
   "execution_count": 10,
   "metadata": {},
   "outputs": [
    {
     "data": {
      "text/plain": [
       "768"
      ]
     },
     "execution_count": 10,
     "metadata": {},
     "output_type": "execute_result"
    }
   ],
   "source": [
    "embeddings.shape[1] # 768 dim space"
   ]
  },
  {
   "cell_type": "code",
   "execution_count": 9,
   "metadata": {},
   "outputs": [],
   "source": [
    "import faiss\n",
    "\n",
    "# faiss set index\n",
    "embeddings_dimension = embeddings.shape[1] # \n",
    "index = faiss.IndexFlatL2(embeddings_dimension)  # using a flat index, but may need to change to IVF to account for memories being constantly added\n",
    "faiss.normalize_L2(embeddings)\n",
    "index.add(embeddings)"
   ]
  },
  {
   "cell_type": "code",
   "execution_count": 13,
   "metadata": {},
   "outputs": [],
   "source": [
    "search_text = [\"bob joe\"]\n",
    "search_embedding = embeddings_model.encode(search_text)\n",
    "faiss.normalize_L2(search_embedding)"
   ]
  },
  {
   "cell_type": "code",
   "execution_count": 14,
   "metadata": {},
   "outputs": [],
   "source": [
    "distances, ann = index.search(search_embedding, k=1)"
   ]
  },
  {
   "cell_type": "code",
   "execution_count": 20,
   "metadata": {},
   "outputs": [
    {
     "data": {
      "text/plain": [
       "'This is an example sentence'"
      ]
     },
     "execution_count": 20,
     "metadata": {},
     "output_type": "execute_result"
    }
   ],
   "source": [
    "distances[0]\n",
    "sentences[ann[0].item()]"
   ]
  },
  {
   "cell_type": "code",
   "execution_count": null,
   "metadata": {},
   "outputs": [],
   "source": []
  }
 ],
 "metadata": {
  "kernelspec": {
   "display_name": "web_ai",
   "language": "python",
   "name": "python3"
  },
  "language_info": {
   "codemirror_mode": {
    "name": "ipython",
    "version": 3
   },
   "file_extension": ".py",
   "mimetype": "text/x-python",
   "name": "python",
   "nbconvert_exporter": "python",
   "pygments_lexer": "ipython3",
   "version": "3.11.7"
  }
 },
 "nbformat": 4,
 "nbformat_minor": 2
}
